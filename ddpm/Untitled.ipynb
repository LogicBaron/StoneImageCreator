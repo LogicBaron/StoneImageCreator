{
 "cells": [
  {
   "cell_type": "code",
   "execution_count": 3,
   "id": "b4410c21",
   "metadata": {},
   "outputs": [],
   "source": [
    "import torch\n",
    "from datasets import load_dataset\n",
    "from torchvision import transforms\n",
    "from torch.utils.data import DataLoader\n",
    "\n",
    "from model import UNet, DiffusionModel\n",
    "from model.diffusion_ import DenoiseDiffusion"
   ]
  },
  {
   "cell_type": "code",
   "execution_count": 4,
   "id": "c2990058",
   "metadata": {},
   "outputs": [],
   "source": [
    "from PIL import Image\n",
    "from torchvision.transforms.functional import to_pil_image\n",
    "\n",
    "def make_grid(images, rows, cols):\n",
    "    c, w, h = images[0].size()\n",
    "    grid = Image.new('RGB', size=(cols*w, rows*h))\n",
    "    for i, image in enumerate(images):\n",
    "        grid.paste(to_pil_image(image), box=(i%cols*w, i//cols*h))\n",
    "    return grid"
   ]
  },
  {
   "cell_type": "code",
   "execution_count": 5,
   "id": "c97c0aea",
   "metadata": {},
   "outputs": [
    {
     "name": "stderr",
     "output_type": "stream",
     "text": [
      "Using custom data configuration huggan--smithsonian_butterflies_subset-dca27cc6049931aa\n",
      "Found cached dataset parquet (/home1/irteam/.cache/huggingface/datasets/huggan___parquet/huggan--smithsonian_butterflies_subset-dca27cc6049931aa/0.0.0/2a3b91fbd88a2c90d1dbbb32b460cf621d31bd5b05b934492fdef7d8d6f236ec)\n"
     ]
    },
    {
     "data": {
      "application/vnd.jupyter.widget-view+json": {
       "model_id": "c3b7250a8d24434fbb54f7dff2456cad",
       "version_major": 2,
       "version_minor": 0
      },
      "text/plain": [
       "  0%|          | 0/1 [00:00<?, ?it/s]"
      ]
     },
     "metadata": {},
     "output_type": "display_data"
    }
   ],
   "source": [
    "dataset = load_dataset(\"huggan/smithsonian_butterflies_subset\")"
   ]
  },
  {
   "cell_type": "code",
   "execution_count": 6,
   "id": "f7316095",
   "metadata": {},
   "outputs": [],
   "source": [
    "def transform(examples):\n",
    "    jitter = transforms.Compose([\n",
    "        transforms.Resize((64,64)),\n",
    "        transforms.RandomHorizontalFlip(),\n",
    "        transforms.ToTensor(),\n",
    "        transforms.Normalize(mean=[0.50], std=[0.5]),\n",
    "     ])\n",
    "    image_tensors = [jitter(image.convert(\"RGB\")) for image in examples[\"image\"]]\n",
    "    return {'img_input': image_tensors}"
   ]
  },
  {
   "cell_type": "code",
   "execution_count": 7,
   "id": "72a9e1d2",
   "metadata": {},
   "outputs": [],
   "source": [
    "train_dataset = dataset['train']\n",
    "train_dataset.set_transform(transform)\n",
    "train_dataloader = DataLoader(train_dataset, batch_size=16)"
   ]
  },
  {
   "cell_type": "code",
   "execution_count": 8,
   "id": "a5cff52a",
   "metadata": {},
   "outputs": [],
   "source": [
    "sample_image = train_dataset[0]['img_input']"
   ]
  },
  {
   "cell_type": "code",
   "execution_count": 9,
   "id": "221fc69e",
   "metadata": {},
   "outputs": [],
   "source": [
    "noise = torch.randn(sample_image.shape)"
   ]
  },
  {
   "cell_type": "code",
   "execution_count": 10,
   "id": "704b359e",
   "metadata": {},
   "outputs": [
    {
     "data": {
      "image/png": "[encoded data removed]",
      "text/plain": [
       "<PIL.Image.Image image mode=RGB size=64x64>"
      ]
     },
     "execution_count": 10,
     "metadata": {},
     "output_type": "execute_result"
    }
   ],
   "source": [
    "to_pil_image(sample_image)"
   ]
  },
  {
   "cell_type": "code",
   "execution_count": 11,
   "id": "25ea4070",
   "metadata": {},
   "outputs": [
    {
     "data": {
      "image/png": "[encoded data removed]",
      "text/plain": [
       "<PIL.Image.Image image mode=RGB size=64x64>"
      ]
     },
     "execution_count": 11,
     "metadata": {},
     "output_type": "execute_result"
    }
   ],
   "source": [
    "to_pil_image(noise)"
   ]
  },
  {
   "cell_type": "code",
   "execution_count": 25,
   "id": "86689613",
   "metadata": {},
   "outputs": [],
   "source": [
    "model = UNet(in_dim=64,\n",
    "             dim_mults = (1, 2, 2, 4),\n",
    "             is_attn = (False, False, True, False)\n",
    "             )\n",
    "ddpm_ = DiffusionModel(model = model,\n",
    "                      num_timesteps=1000)\n",
    "ddpm = DenoiseDiffusion(\n",
    "    eps_model = model,\n",
    "    n_steps=1000,\n",
    "    device=torch.device(\"cuda:3\"))\n"
   ]
  },
  {
   "cell_type": "code",
   "execution_count": 13,
   "id": "ac7bfbff",
   "metadata": {},
   "outputs": [
    {
     "ename": "AttributeError",
     "evalue": "'DenoiseDiffusion' object has no attribute 'sample'",
     "output_type": "error",
     "traceback": [
      "\u001b[0;31m---------------------------------------------------------------------------\u001b[0m",
      "\u001b[0;31mAttributeError\u001b[0m                            Traceback (most recent call last)",
      "\u001b[0;32m/tmp/ipykernel_21565/3443187998.py\u001b[0m in \u001b[0;36m<module>\u001b[0;34m\u001b[0m\n\u001b[0;32m----> 1\u001b[0;31m \u001b[0mddpm\u001b[0m\u001b[0;34m.\u001b[0m\u001b[0msample\u001b[0m\u001b[0;34m(\u001b[0m\u001b[0;34m)\u001b[0m\u001b[0;34m\u001b[0m\u001b[0;34m\u001b[0m\u001b[0m\n\u001b[0m",
      "\u001b[0;31mAttributeError\u001b[0m: 'DenoiseDiffusion' object has no attribute 'sample'"
     ]
    }
   ],
   "source": [
    "ddpm.sample()"
   ]
  },
  {
   "cell_type": "code",
   "execution_count": 23,
   "id": "4e5a1228",
   "metadata": {},
   "outputs": [
    {
     "data": {
      "text/plain": [
       "UNet(\n",
       "  (init_conv): Conv2d(3, 64, kernel_size=(3, 3), stride=(1, 1), padding=(1, 1))\n",
       "  (time_emb): TimeEmbedding(\n",
       "    (ln1): Linear(in_features=64, out_features=256, bias=True)\n",
       "    (act1): GELU()\n",
       "    (ln2): Linear(in_features=256, out_features=256, bias=True)\n",
       "  )\n",
       "  (downs): ModuleList(\n",
       "    (0): DownBlock(\n",
       "      (convres): ConvResBlock(\n",
       "        (norm1): GroupNorm(8, 64, eps=1e-05, affine=True)\n",
       "        (act1): GELU()\n",
       "        (conv1): Conv2d(64, 128, kernel_size=(3, 3), stride=(1, 1), padding=(1, 1))\n",
       "        (norm2): GroupNorm(8, 128, eps=1e-05, affine=True)\n",
       "        (act2): GELU()\n",
       "        (conv2): Conv2d(128, 128, kernel_size=(3, 3), stride=(1, 1), padding=(1, 1))\n",
       "        (res): Conv2d(64, 128, kernel_size=(1, 1), stride=(1, 1))\n",
       "        (time_ln): Linear(in_features=256, out_features=128, bias=True)\n",
       "        (time_act): GELU()\n",
       "        (dropout): Dropout(p=0.1, inplace=False)\n",
       "      )\n",
       "      (attn): Identity()\n",
       "    )\n",
       "    (1): DownBlock(\n",
       "      (convres): ConvResBlock(\n",
       "        (norm1): GroupNorm(8, 128, eps=1e-05, affine=True)\n",
       "        (act1): GELU()\n",
       "        (conv1): Conv2d(128, 128, kernel_size=(3, 3), stride=(1, 1), padding=(1, 1))\n",
       "        (norm2): GroupNorm(8, 128, eps=1e-05, affine=True)\n",
       "        (act2): GELU()\n",
       "        (conv2): Conv2d(128, 128, kernel_size=(3, 3), stride=(1, 1), padding=(1, 1))\n",
       "        (res): Identity()\n",
       "        (time_ln): Linear(in_features=256, out_features=128, bias=True)\n",
       "        (time_act): GELU()\n",
       "        (dropout): Dropout(p=0.1, inplace=False)\n",
       "      )\n",
       "      (attn): Identity()\n",
       "    )\n",
       "    (2): DownSample(\n",
       "      (conv): Conv2d(128, 128, kernel_size=(3, 3), stride=(2, 2), padding=(1, 1))\n",
       "    )\n",
       "    (3): DownBlock(\n",
       "      (convres): ConvResBlock(\n",
       "        (norm1): GroupNorm(8, 128, eps=1e-05, affine=True)\n",
       "        (act1): GELU()\n",
       "        (conv1): Conv2d(128, 128, kernel_size=(3, 3), stride=(1, 1), padding=(1, 1))\n",
       "        (norm2): GroupNorm(8, 128, eps=1e-05, affine=True)\n",
       "        (act2): GELU()\n",
       "        (conv2): Conv2d(128, 128, kernel_size=(3, 3), stride=(1, 1), padding=(1, 1))\n",
       "        (res): Identity()\n",
       "        (time_ln): Linear(in_features=256, out_features=128, bias=True)\n",
       "        (time_act): GELU()\n",
       "        (dropout): Dropout(p=0.1, inplace=False)\n",
       "      )\n",
       "      (attn): Identity()\n",
       "    )\n",
       "    (4): DownBlock(\n",
       "      (convres): ConvResBlock(\n",
       "        (norm1): GroupNorm(8, 128, eps=1e-05, affine=True)\n",
       "        (act1): GELU()\n",
       "        (conv1): Conv2d(128, 128, kernel_size=(3, 3), stride=(1, 1), padding=(1, 1))\n",
       "        (norm2): GroupNorm(8, 128, eps=1e-05, affine=True)\n",
       "        (act2): GELU()\n",
       "        (conv2): Conv2d(128, 128, kernel_size=(3, 3), stride=(1, 1), padding=(1, 1))\n",
       "        (res): Identity()\n",
       "        (time_ln): Linear(in_features=256, out_features=128, bias=True)\n",
       "        (time_act): GELU()\n",
       "        (dropout): Dropout(p=0.1, inplace=False)\n",
       "      )\n",
       "      (attn): Identity()\n",
       "    )\n",
       "    (5): DownSample(\n",
       "      (conv): Conv2d(128, 128, kernel_size=(3, 3), stride=(2, 2), padding=(1, 1))\n",
       "    )\n",
       "    (6): DownBlock(\n",
       "      (convres): ConvResBlock(\n",
       "        (norm1): GroupNorm(8, 128, eps=1e-05, affine=True)\n",
       "        (act1): GELU()\n",
       "        (conv1): Conv2d(128, 256, kernel_size=(3, 3), stride=(1, 1), padding=(1, 1))\n",
       "        (norm2): GroupNorm(8, 256, eps=1e-05, affine=True)\n",
       "        (act2): GELU()\n",
       "        (conv2): Conv2d(256, 256, kernel_size=(3, 3), stride=(1, 1), padding=(1, 1))\n",
       "        (res): Conv2d(128, 256, kernel_size=(1, 1), stride=(1, 1))\n",
       "        (time_ln): Linear(in_features=256, out_features=256, bias=True)\n",
       "        (time_act): GELU()\n",
       "        (dropout): Dropout(p=0.1, inplace=False)\n",
       "      )\n",
       "      (attn): AttentionBlock(\n",
       "        (norm): GroupNorm(8, 256, eps=1e-05, affine=True)\n",
       "        (to_qkv): Linear(in_features=256, out_features=384, bias=True)\n",
       "        (to_out): Linear(in_features=128, out_features=256, bias=True)\n",
       "      )\n",
       "    )\n",
       "    (7): DownBlock(\n",
       "      (convres): ConvResBlock(\n",
       "        (norm1): GroupNorm(8, 256, eps=1e-05, affine=True)\n",
       "        (act1): GELU()\n",
       "        (conv1): Conv2d(256, 256, kernel_size=(3, 3), stride=(1, 1), padding=(1, 1))\n",
       "        (norm2): GroupNorm(8, 256, eps=1e-05, affine=True)\n",
       "        (act2): GELU()\n",
       "        (conv2): Conv2d(256, 256, kernel_size=(3, 3), stride=(1, 1), padding=(1, 1))\n",
       "        (res): Identity()\n",
       "        (time_ln): Linear(in_features=256, out_features=256, bias=True)\n",
       "        (time_act): GELU()\n",
       "        (dropout): Dropout(p=0.1, inplace=False)\n",
       "      )\n",
       "      (attn): AttentionBlock(\n",
       "        (norm): GroupNorm(8, 256, eps=1e-05, affine=True)\n",
       "        (to_qkv): Linear(in_features=256, out_features=384, bias=True)\n",
       "        (to_out): Linear(in_features=128, out_features=256, bias=True)\n",
       "      )\n",
       "    )\n",
       "  )\n",
       "  (mid): MidBlock(\n",
       "    (convres1): ConvResBlock(\n",
       "      (norm1): GroupNorm(8, 256, eps=1e-05, affine=True)\n",
       "      (act1): GELU()\n",
       "      (conv1): Conv2d(256, 256, kernel_size=(3, 3), stride=(1, 1), padding=(1, 1))\n",
       "      (norm2): GroupNorm(8, 256, eps=1e-05, affine=True)\n",
       "      (act2): GELU()\n",
       "      (conv2): Conv2d(256, 256, kernel_size=(3, 3), stride=(1, 1), padding=(1, 1))\n",
       "      (res): Identity()\n",
       "      (time_ln): Linear(in_features=256, out_features=256, bias=True)\n",
       "      (time_act): GELU()\n",
       "      (dropout): Dropout(p=0.1, inplace=False)\n",
       "    )\n",
       "    (attn1): AttentionBlock(\n",
       "      (norm): GroupNorm(8, 256, eps=1e-05, affine=True)\n",
       "      (to_qkv): Linear(in_features=256, out_features=384, bias=True)\n",
       "      (to_out): Linear(in_features=128, out_features=256, bias=True)\n",
       "    )\n",
       "    (convres2): ConvResBlock(\n",
       "      (norm1): GroupNorm(8, 256, eps=1e-05, affine=True)\n",
       "      (act1): GELU()\n",
       "      (conv1): Conv2d(256, 256, kernel_size=(3, 3), stride=(1, 1), padding=(1, 1))\n",
       "      (norm2): GroupNorm(8, 256, eps=1e-05, affine=True)\n",
       "      (act2): GELU()\n",
       "      (conv2): Conv2d(256, 256, kernel_size=(3, 3), stride=(1, 1), padding=(1, 1))\n",
       "      (res): Identity()\n",
       "      (time_ln): Linear(in_features=256, out_features=256, bias=True)\n",
       "      (time_act): GELU()\n",
       "      (dropout): Dropout(p=0.1, inplace=False)\n",
       "    )\n",
       "  )\n",
       "  (ups): ModuleList(\n",
       "    (0): UpBlock(\n",
       "      (convres): ConvResBlock(\n",
       "        (norm1): GroupNorm(8, 512, eps=1e-05, affine=True)\n",
       "        (act1): GELU()\n",
       "        (conv1): Conv2d(512, 128, kernel_size=(3, 3), stride=(1, 1), padding=(1, 1))\n",
       "        (norm2): GroupNorm(8, 128, eps=1e-05, affine=True)\n",
       "        (act2): GELU()\n",
       "        (conv2): Conv2d(128, 128, kernel_size=(3, 3), stride=(1, 1), padding=(1, 1))\n",
       "        (res): Conv2d(512, 128, kernel_size=(1, 1), stride=(1, 1))\n",
       "        (time_ln): Linear(in_features=256, out_features=128, bias=True)\n",
       "        (time_act): GELU()\n",
       "        (dropout): Dropout(p=0.1, inplace=False)\n",
       "      )\n",
       "      (attn): Identity()\n",
       "    )\n",
       "    (1): UpBlock(\n",
       "      (convres): ConvResBlock(\n",
       "        (norm1): GroupNorm(8, 384, eps=1e-05, affine=True)\n",
       "        (act1): GELU()\n",
       "        (conv1): Conv2d(384, 128, kernel_size=(3, 3), stride=(1, 1), padding=(1, 1))\n",
       "        (norm2): GroupNorm(8, 128, eps=1e-05, affine=True)\n",
       "        (act2): GELU()\n",
       "        (conv2): Conv2d(128, 128, kernel_size=(3, 3), stride=(1, 1), padding=(1, 1))\n",
       "        (res): Conv2d(384, 128, kernel_size=(1, 1), stride=(1, 1))\n",
       "        (time_ln): Linear(in_features=256, out_features=128, bias=True)\n",
       "        (time_act): GELU()\n",
       "        (dropout): Dropout(p=0.1, inplace=False)\n",
       "      )\n",
       "      (attn): Identity()\n",
       "    )\n",
       "    (2): UpSample(\n",
       "      (upconv): ConvTranspose2d(128, 128, kernel_size=(4, 4), stride=(2, 2), padding=(1, 1))\n",
       "    )\n",
       "    (3): UpBlock(\n",
       "      (convres): ConvResBlock(\n",
       "        (norm1): GroupNorm(8, 256, eps=1e-05, affine=True)\n",
       "        (act1): GELU()\n",
       "        (conv1): Conv2d(256, 128, kernel_size=(3, 3), stride=(1, 1), padding=(1, 1))\n",
       "        (norm2): GroupNorm(8, 128, eps=1e-05, affine=True)\n",
       "        (act2): GELU()\n",
       "        (conv2): Conv2d(128, 128, kernel_size=(3, 3), stride=(1, 1), padding=(1, 1))\n",
       "        (res): Conv2d(256, 128, kernel_size=(1, 1), stride=(1, 1))\n",
       "        (time_ln): Linear(in_features=256, out_features=128, bias=True)\n",
       "        (time_act): GELU()\n",
       "        (dropout): Dropout(p=0.1, inplace=False)\n",
       "      )\n",
       "      (attn): Identity()\n",
       "    )\n",
       "    (4): UpBlock(\n",
       "      (convres): ConvResBlock(\n",
       "        (norm1): GroupNorm(8, 256, eps=1e-05, affine=True)\n",
       "        (act1): GELU()\n",
       "        (conv1): Conv2d(256, 128, kernel_size=(3, 3), stride=(1, 1), padding=(1, 1))\n",
       "        (norm2): GroupNorm(8, 128, eps=1e-05, affine=True)\n",
       "        (act2): GELU()\n",
       "        (conv2): Conv2d(128, 128, kernel_size=(3, 3), stride=(1, 1), padding=(1, 1))\n",
       "        (res): Conv2d(256, 128, kernel_size=(1, 1), stride=(1, 1))\n",
       "        (time_ln): Linear(in_features=256, out_features=128, bias=True)\n",
       "        (time_act): GELU()\n",
       "        (dropout): Dropout(p=0.1, inplace=False)\n",
       "      )\n",
       "      (attn): Identity()\n",
       "    )\n",
       "    (5): UpSample(\n",
       "      (upconv): ConvTranspose2d(128, 128, kernel_size=(4, 4), stride=(2, 2), padding=(1, 1))\n",
       "    )\n",
       "    (6): UpBlock(\n",
       "      (convres): ConvResBlock(\n",
       "        (norm1): GroupNorm(8, 256, eps=1e-05, affine=True)\n",
       "        (act1): GELU()\n",
       "        (conv1): Conv2d(256, 64, kernel_size=(3, 3), stride=(1, 1), padding=(1, 1))\n",
       "        (norm2): GroupNorm(8, 64, eps=1e-05, affine=True)\n",
       "        (act2): GELU()\n",
       "        (conv2): Conv2d(64, 64, kernel_size=(3, 3), stride=(1, 1), padding=(1, 1))\n",
       "        (res): Conv2d(256, 64, kernel_size=(1, 1), stride=(1, 1))\n",
       "        (time_ln): Linear(in_features=256, out_features=64, bias=True)\n",
       "        (time_act): GELU()\n",
       "        (dropout): Dropout(p=0.1, inplace=False)\n",
       "      )\n",
       "      (attn): AttentionBlock(\n",
       "        (norm): GroupNorm(8, 64, eps=1e-05, affine=True)\n",
       "        (to_qkv): Linear(in_features=64, out_features=384, bias=True)\n",
       "        (to_out): Linear(in_features=128, out_features=64, bias=True)\n",
       "      )\n",
       "    )\n",
       "    (7): UpBlock(\n",
       "      (convres): ConvResBlock(\n",
       "        (norm1): GroupNorm(8, 192, eps=1e-05, affine=True)\n",
       "        (act1): GELU()\n",
       "        (conv1): Conv2d(192, 64, kernel_size=(3, 3), stride=(1, 1), padding=(1, 1))\n",
       "        (norm2): GroupNorm(8, 64, eps=1e-05, affine=True)\n",
       "        (act2): GELU()\n",
       "        (conv2): Conv2d(64, 64, kernel_size=(3, 3), stride=(1, 1), padding=(1, 1))\n",
       "        (res): Conv2d(192, 64, kernel_size=(1, 1), stride=(1, 1))\n",
       "        (time_ln): Linear(in_features=256, out_features=64, bias=True)\n",
       "        (time_act): GELU()\n",
       "        (dropout): Dropout(p=0.1, inplace=False)\n",
       "      )\n",
       "      (attn): AttentionBlock(\n",
       "        (norm): GroupNorm(8, 64, eps=1e-05, affine=True)\n",
       "        (to_qkv): Linear(in_features=64, out_features=384, bias=True)\n",
       "        (to_out): Linear(in_features=128, out_features=64, bias=True)\n",
       "      )\n",
       "    )\n",
       "  )\n",
       "  (final_norm): GroupNorm(8, 64, eps=1e-05, affine=True)\n",
       "  (final_act): GELU()\n",
       "  (final_conv): Conv2d(64, 64, kernel_size=(3, 3), stride=(1, 1), padding=(1, 1))\n",
       "  (final_res): Identity()\n",
       "  (out_conv): Conv2d(64, 3, kernel_size=(1, 1), stride=(1, 1))\n",
       ")"
      ]
     },
     "execution_count": 23,
     "metadata": {},
     "output_type": "execute_result"
    }
   ],
   "source": [
    "ddpm.eps_model.to(torch.device(\"cuda:3\"))"
   ]
  },
  {
   "cell_type": "code",
   "execution_count": 24,
   "id": "02667bd4",
   "metadata": {},
   "outputs": [
    {
     "data": {
      "text/plain": [
       "tensor(1.1451, device='cuda:3', grad_fn=<MseLossBackward>)"
      ]
     },
     "execution_count": 24,
     "metadata": {},
     "output_type": "execute_result"
    }
   ],
   "source": [
    "ddpm.loss(next(enumerate(train_dataloader))[1]['img_input'].to(torch.device(\"cuda:3\")))"
   ]
  },
  {
   "cell_type": "code",
   "execution_count": 29,
   "id": "35b01d14",
   "metadata": {},
   "outputs": [
    {
     "data": {
      "text/plain": [
       "tensor(1.1160, device='cuda:3', grad_fn=<MeanBackward0>)"
      ]
     },
     "execution_count": 29,
     "metadata": {},
     "output_type": "execute_result"
    }
   ],
   "source": [
    "ddpm_.to(torch.device(\"cuda:3\"))\n",
    "ddpm_(next(enumerate(train_dataloader))[1]['img_input'].to(torch.device(\"cuda:3\")))"
   ]
  },
  {
   "cell_type": "code",
   "execution_count": null,
   "id": "9ae714ef",
   "metadata": {},
   "outputs": [],
   "source": []
  }
 ],
 "metadata": {
  "kernelspec": {
   "display_name": "jh-1.8",
   "language": "python",
   "name": "jh-1.8"
  },
  "language_info": {
   "codemirror_mode": {
    "name": "ipython",
    "version": 3
   },
   "file_extension": ".py",
   "mimetype": "text/x-python",
   "name": "python",
   "nbconvert_exporter": "python",
   "pygments_lexer": "ipython3",
   "version": "3.7.11"
  }
 },
 "nbformat": 4,
 "nbformat_minor": 5
}
